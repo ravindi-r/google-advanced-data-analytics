{
 "cells": [
  {
   "cell_type": "markdown",
   "metadata": {},
   "source": [
    "# Annotated follow-along guide: EDA using basic data functions with Python"
   ]
  },
  {
   "cell_type": "markdown",
   "metadata": {},
   "source": [
    "This notebook contains the code used in the following instructional video: [EDA using basic data functions with Python](https://www.coursera.org/learn/go-beyond-the-numbers-translate-data-into-insight/lecture/4k4Vg/eda-using-basic-data-functions-with-python)."
   ]
  },
  {
   "cell_type": "markdown",
   "metadata": {
    "id": "pv-wZCVsoRaA"
   },
   "source": [
    "## Introduction"
   ]
  },
  {
   "cell_type": "markdown",
   "metadata": {
    "id": "LRoMZaMGM40L"
   },
   "source": [
    "Throughout this notebook, we will implement discovering skills on a dataset. Before getting started, watch the associated instructional video and complete the in-video question. All of the code we will be implementing and related instructions are contained in this notebook."
   ]
  },
  {
   "cell_type": "markdown",
   "metadata": {},
   "source": [
    "## Overview\n",
    "\n",
    "In this notebook, we will use pandas to examine 2018 lightning strike data collected by the National Oceanic and Atmospheric Administration (NOAA). Then, we will calculate the total number of strikes for each month and plot this information on a bar graph."
   ]
  },
  {
   "cell_type": "markdown",
   "metadata": {},
   "source": [
    "## Import packages and libraries\n",
    "\n",
    "Before getting started, we will need to import all the required libraries and extensions. Throughout the course, we will be using pandas, numpy, and datetime for operations, and matplotlib, pyplot, and seaborn for plotting."
   ]
  },
  {
   "cell_type": "code",
   "execution_count": 29,
   "metadata": {
    "id": "N0E8KXV4M40Q"
   },
   "outputs": [],
   "source": [
    "import pandas as pd\n",
    "import numpy as np\n",
    "import datetime as dt\n",
    "import matplotlib.pyplot as plt"
   ]
  },
  {
   "cell_type": "code",
   "execution_count": 30,
   "metadata": {
    "id": "klv0Mx6Tx8f0"
   },
   "outputs": [],
   "source": [
    "# Read in the 2018 lightning strike dataset.\n",
    "df = pd.read_csv('eda_using_basic_data_functions_in_python_dataset1.csv')"
   ]
  },
  {
   "cell_type": "code",
   "execution_count": 31,
   "metadata": {
    "colab": {
     "base_uri": "https://localhost:8080/",
     "height": 363
    },
    "id": "hEYIhPvAKtAd",
    "outputId": "462fa3fc-020b-4d16-b3ff-d4848de12658"
   },
   "outputs": [
    {
     "data": {
      "text/html": [
       "<div>\n",
       "<style scoped>\n",
       "    .dataframe tbody tr th:only-of-type {\n",
       "        vertical-align: middle;\n",
       "    }\n",
       "\n",
       "    .dataframe tbody tr th {\n",
       "        vertical-align: top;\n",
       "    }\n",
       "\n",
       "    .dataframe thead th {\n",
       "        text-align: right;\n",
       "    }\n",
       "</style>\n",
       "<table border=\"1\" class=\"dataframe\">\n",
       "  <thead>\n",
       "    <tr style=\"text-align: right;\">\n",
       "      <th></th>\n",
       "      <th>date</th>\n",
       "      <th>number_of_strikes</th>\n",
       "      <th>center_point_geom</th>\n",
       "    </tr>\n",
       "  </thead>\n",
       "  <tbody>\n",
       "    <tr>\n",
       "      <th>0</th>\n",
       "      <td>2018-01-03</td>\n",
       "      <td>194</td>\n",
       "      <td>POINT(-75 27)</td>\n",
       "    </tr>\n",
       "    <tr>\n",
       "      <th>1</th>\n",
       "      <td>2018-01-03</td>\n",
       "      <td>41</td>\n",
       "      <td>POINT(-78.4 29)</td>\n",
       "    </tr>\n",
       "    <tr>\n",
       "      <th>2</th>\n",
       "      <td>2018-01-03</td>\n",
       "      <td>33</td>\n",
       "      <td>POINT(-73.9 27)</td>\n",
       "    </tr>\n",
       "    <tr>\n",
       "      <th>3</th>\n",
       "      <td>2018-01-03</td>\n",
       "      <td>38</td>\n",
       "      <td>POINT(-73.8 27)</td>\n",
       "    </tr>\n",
       "    <tr>\n",
       "      <th>4</th>\n",
       "      <td>2018-01-03</td>\n",
       "      <td>92</td>\n",
       "      <td>POINT(-79 28)</td>\n",
       "    </tr>\n",
       "    <tr>\n",
       "      <th>5</th>\n",
       "      <td>2018-01-03</td>\n",
       "      <td>119</td>\n",
       "      <td>POINT(-78 28)</td>\n",
       "    </tr>\n",
       "    <tr>\n",
       "      <th>6</th>\n",
       "      <td>2018-01-03</td>\n",
       "      <td>35</td>\n",
       "      <td>POINT(-79.3 28)</td>\n",
       "    </tr>\n",
       "    <tr>\n",
       "      <th>7</th>\n",
       "      <td>2018-01-03</td>\n",
       "      <td>60</td>\n",
       "      <td>POINT(-79.1 28)</td>\n",
       "    </tr>\n",
       "    <tr>\n",
       "      <th>8</th>\n",
       "      <td>2018-01-03</td>\n",
       "      <td>41</td>\n",
       "      <td>POINT(-78.7 28)</td>\n",
       "    </tr>\n",
       "    <tr>\n",
       "      <th>9</th>\n",
       "      <td>2018-01-03</td>\n",
       "      <td>119</td>\n",
       "      <td>POINT(-78.6 28)</td>\n",
       "    </tr>\n",
       "  </tbody>\n",
       "</table>\n",
       "</div>"
      ],
      "text/plain": [
       "         date  number_of_strikes center_point_geom\n",
       "0  2018-01-03                194     POINT(-75 27)\n",
       "1  2018-01-03                 41   POINT(-78.4 29)\n",
       "2  2018-01-03                 33   POINT(-73.9 27)\n",
       "3  2018-01-03                 38   POINT(-73.8 27)\n",
       "4  2018-01-03                 92     POINT(-79 28)\n",
       "5  2018-01-03                119     POINT(-78 28)\n",
       "6  2018-01-03                 35   POINT(-79.3 28)\n",
       "7  2018-01-03                 60   POINT(-79.1 28)\n",
       "8  2018-01-03                 41   POINT(-78.7 28)\n",
       "9  2018-01-03                119   POINT(-78.6 28)"
      ]
     },
     "execution_count": 31,
     "metadata": {},
     "output_type": "execute_result"
    }
   ],
   "source": [
    "# Inspect the first 10 rows.\n",
    "df.head(10)"
   ]
  },
  {
   "cell_type": "markdown",
   "metadata": {
    "id": "XlLl6X7LM40T"
   },
   "source": [
    "Notice that the data is structured as one row per day along with the geometric location of the strike. "
   ]
  },
  {
   "cell_type": "markdown",
   "metadata": {
    "id": "_ukbCDA_M40U"
   },
   "source": [
    "A quick way to determine how many rows and columns of data there are in total is to use `df.shape`. The information will be output as: ([rows], [columns])."
   ]
  },
  {
   "cell_type": "code",
   "execution_count": 32,
   "metadata": {
    "colab": {
     "base_uri": "https://localhost:8080/"
    },
    "id": "o83OWkEarGpC",
    "outputId": "c15eab2d-47e7-441b-8526-a2c801af0657"
   },
   "outputs": [
    {
     "data": {
      "text/plain": [
       "(3401012, 3)"
      ]
     },
     "execution_count": 32,
     "metadata": {},
     "output_type": "execute_result"
    }
   ],
   "source": [
    "df.shape"
   ]
  },
  {
   "cell_type": "markdown",
   "metadata": {
    "id": "dxyDE7J9M40V"
   },
   "source": [
    "The total number of rows is 3,401,012, and there are three columns. "
   ]
  },
  {
   "cell_type": "code",
   "execution_count": 33,
   "metadata": {
    "colab": {
     "base_uri": "https://localhost:8080/"
    },
    "id": "7mknP-mavtAU",
    "outputId": "b7165bb2-e88c-43a3-c49f-0af71f4b7909"
   },
   "outputs": [
    {
     "name": "stdout",
     "output_type": "stream",
     "text": [
      "<class 'pandas.core.frame.DataFrame'>\n",
      "RangeIndex: 3401012 entries, 0 to 3401011\n",
      "Data columns (total 3 columns):\n",
      " #   Column             Dtype \n",
      "---  ------             ----- \n",
      " 0   date               object\n",
      " 1   number_of_strikes  int64 \n",
      " 2   center_point_geom  object\n",
      "dtypes: int64(1), object(2)\n",
      "memory usage: 77.8+ MB\n"
     ]
    }
   ],
   "source": [
    "# Get more information about the data, including data types of each column\n",
    "df.info()"
   ]
  },
  {
   "cell_type": "markdown",
   "metadata": {},
   "source": [
    "### Convert the date column to datetime"
   ]
  },
  {
   "cell_type": "markdown",
   "metadata": {
    "id": "cyRd3WcsM40V"
   },
   "source": [
    "`info` will provide the total number of rows (3,401,012) and columns (3). It will also state the names and data types of each column, as well as the size of the dataframe in memory. \n",
    "\n",
    "In this case, notice that the `date` column is an 'object' type rather than a 'date' type. Objects are strings. When dates are encoded as strings, they cannot be manipulated as easily. Converting string dates to datetime will enable you to work with them much more easily.\n",
    "\n",
    "Let's convert to datetime using the pandas function `to_datetime()`."
   ]
  },
  {
   "cell_type": "code",
   "execution_count": 34,
   "metadata": {
    "id": "lT3Hrf7zlD_h"
   },
   "outputs": [],
   "source": [
    "# Convert date column to datetime\n",
    "df['date']= pd.to_datetime(df['date'])"
   ]
  },
  {
   "cell_type": "code",
   "execution_count": 35,
   "metadata": {},
   "outputs": [
    {
     "data": {
      "text/html": [
       "<div>\n",
       "<style scoped>\n",
       "    .dataframe tbody tr th:only-of-type {\n",
       "        vertical-align: middle;\n",
       "    }\n",
       "\n",
       "    .dataframe tbody tr th {\n",
       "        vertical-align: top;\n",
       "    }\n",
       "\n",
       "    .dataframe thead th {\n",
       "        text-align: right;\n",
       "    }\n",
       "</style>\n",
       "<table border=\"1\" class=\"dataframe\">\n",
       "  <thead>\n",
       "    <tr style=\"text-align: right;\">\n",
       "      <th></th>\n",
       "      <th>date</th>\n",
       "      <th>number_of_strikes</th>\n",
       "      <th>center_point_geom</th>\n",
       "    </tr>\n",
       "  </thead>\n",
       "  <tbody>\n",
       "    <tr>\n",
       "      <th>0</th>\n",
       "      <td>2018-01-03</td>\n",
       "      <td>194</td>\n",
       "      <td>POINT(-75 27)</td>\n",
       "    </tr>\n",
       "    <tr>\n",
       "      <th>1</th>\n",
       "      <td>2018-01-03</td>\n",
       "      <td>41</td>\n",
       "      <td>POINT(-78.4 29)</td>\n",
       "    </tr>\n",
       "    <tr>\n",
       "      <th>2</th>\n",
       "      <td>2018-01-03</td>\n",
       "      <td>33</td>\n",
       "      <td>POINT(-73.9 27)</td>\n",
       "    </tr>\n",
       "    <tr>\n",
       "      <th>3</th>\n",
       "      <td>2018-01-03</td>\n",
       "      <td>38</td>\n",
       "      <td>POINT(-73.8 27)</td>\n",
       "    </tr>\n",
       "    <tr>\n",
       "      <th>4</th>\n",
       "      <td>2018-01-03</td>\n",
       "      <td>92</td>\n",
       "      <td>POINT(-79 28)</td>\n",
       "    </tr>\n",
       "  </tbody>\n",
       "</table>\n",
       "</div>"
      ],
      "text/plain": [
       "        date  number_of_strikes center_point_geom\n",
       "0 2018-01-03                194     POINT(-75 27)\n",
       "1 2018-01-03                 41   POINT(-78.4 29)\n",
       "2 2018-01-03                 33   POINT(-73.9 27)\n",
       "3 2018-01-03                 38   POINT(-73.8 27)\n",
       "4 2018-01-03                 92     POINT(-79 28)"
      ]
     },
     "execution_count": 35,
     "metadata": {},
     "output_type": "execute_result"
    }
   ],
   "source": [
    "df.head(5)"
   ]
  },
  {
   "cell_type": "markdown",
   "metadata": {},
   "source": [
    "### Calculate the days with the most strikes"
   ]
  },
  {
   "cell_type": "markdown",
   "metadata": {
    "collapsed": true,
    "id": "dgTZFl95M40W",
    "jupyter": {
     "outputs_hidden": true
    }
   },
   "source": [
    "As part of discovering, you want to get an idea of the highest data points. For this dataset, we can calculate the top 10 days of 2018 with the most number of lightning strikes using the `groupby()`, `sum()`, and `sort_values()` functions from pandas.\n",
    "\n",
    "When using `groupby()` on the date column, the function combines all rows with the same date into a single row. \n",
    "\n",
    "Then, using `sum()` performs a sum calculation on all other summable columns. In this case, we are summing all the lightning strikes that happened on each day. Notice that the `center_point_geom` column is not included in the output. That's because, as a string object, this column is not summable. \n",
    "\n",
    "Finally, `sort_values()` returns the results in descending order of total strikes for each day in the data."
   ]
  },
  {
   "cell_type": "code",
   "execution_count": 41,
   "metadata": {
    "colab": {
     "base_uri": "https://localhost:8080/",
     "height": 394
    },
    "id": "HeVAybaRwwTw",
    "outputId": "bec0bb3a-3089-4931-edf3-d9b51f165219"
   },
   "outputs": [
    {
     "data": {
      "text/html": [
       "<div>\n",
       "<style scoped>\n",
       "    .dataframe tbody tr th:only-of-type {\n",
       "        vertical-align: middle;\n",
       "    }\n",
       "\n",
       "    .dataframe tbody tr th {\n",
       "        vertical-align: top;\n",
       "    }\n",
       "\n",
       "    .dataframe thead th {\n",
       "        text-align: right;\n",
       "    }\n",
       "</style>\n",
       "<table border=\"1\" class=\"dataframe\">\n",
       "  <thead>\n",
       "    <tr style=\"text-align: right;\">\n",
       "      <th></th>\n",
       "      <th>number_of_strikes</th>\n",
       "    </tr>\n",
       "    <tr>\n",
       "      <th>date</th>\n",
       "      <th></th>\n",
       "    </tr>\n",
       "  </thead>\n",
       "  <tbody>\n",
       "    <tr>\n",
       "      <th>2018-08-29</th>\n",
       "      <td>1070457</td>\n",
       "    </tr>\n",
       "    <tr>\n",
       "      <th>2018-08-17</th>\n",
       "      <td>969774</td>\n",
       "    </tr>\n",
       "    <tr>\n",
       "      <th>2018-08-28</th>\n",
       "      <td>917199</td>\n",
       "    </tr>\n",
       "    <tr>\n",
       "      <th>2018-08-27</th>\n",
       "      <td>824589</td>\n",
       "    </tr>\n",
       "    <tr>\n",
       "      <th>2018-08-30</th>\n",
       "      <td>802170</td>\n",
       "    </tr>\n",
       "    <tr>\n",
       "      <th>2018-08-19</th>\n",
       "      <td>786225</td>\n",
       "    </tr>\n",
       "    <tr>\n",
       "      <th>2018-08-18</th>\n",
       "      <td>741180</td>\n",
       "    </tr>\n",
       "    <tr>\n",
       "      <th>2018-08-16</th>\n",
       "      <td>734475</td>\n",
       "    </tr>\n",
       "    <tr>\n",
       "      <th>2018-08-31</th>\n",
       "      <td>723624</td>\n",
       "    </tr>\n",
       "    <tr>\n",
       "      <th>2018-08-15</th>\n",
       "      <td>673455</td>\n",
       "    </tr>\n",
       "  </tbody>\n",
       "</table>\n",
       "</div>"
      ],
      "text/plain": [
       "            number_of_strikes\n",
       "date                         \n",
       "2018-08-29            1070457\n",
       "2018-08-17             969774\n",
       "2018-08-28             917199\n",
       "2018-08-27             824589\n",
       "2018-08-30             802170\n",
       "2018-08-19             786225\n",
       "2018-08-18             741180\n",
       "2018-08-16             734475\n",
       "2018-08-31             723624\n",
       "2018-08-15             673455"
      ]
     },
     "execution_count": 41,
     "metadata": {},
     "output_type": "execute_result"
    }
   ],
   "source": [
    "# Calculate days with most lightning strikes.\n",
    "df.groupby(['date']).sum(numeric_only=True ).sort_values('number_of_strikes', ascending=False).head(10) "
   ]
  },
  {
   "cell_type": "markdown",
   "metadata": {
    "id": "runnFUe4M40X"
   },
   "source": [
    "A common mistake among data professionals is using `count()` instead of `sum()`, and vice versa. In this case, `count()` would return the number of occurrences of each date in the dataset, which is not the desired result."
   ]
  },
  {
   "cell_type": "markdown",
   "metadata": {},
   "source": [
    "### Extract the month data"
   ]
  },
  {
   "cell_type": "markdown",
   "metadata": {
    "id": "hbbj6CkMM40X"
   },
   "source": [
    "Next, we will extract the month data from the `date` column and add that extracted month data into a new column called `month`. `dt.month` extracts just the month information (as a numeric value) from the date. This is why converting the `date` column to datetime is very useful. "
   ]
  },
  {
   "cell_type": "code",
   "execution_count": 42,
   "metadata": {
    "id": "GS1_-o0zyUff"
   },
   "outputs": [
    {
     "data": {
      "text/html": [
       "<div>\n",
       "<style scoped>\n",
       "    .dataframe tbody tr th:only-of-type {\n",
       "        vertical-align: middle;\n",
       "    }\n",
       "\n",
       "    .dataframe tbody tr th {\n",
       "        vertical-align: top;\n",
       "    }\n",
       "\n",
       "    .dataframe thead th {\n",
       "        text-align: right;\n",
       "    }\n",
       "</style>\n",
       "<table border=\"1\" class=\"dataframe\">\n",
       "  <thead>\n",
       "    <tr style=\"text-align: right;\">\n",
       "      <th></th>\n",
       "      <th>date</th>\n",
       "      <th>number_of_strikes</th>\n",
       "      <th>center_point_geom</th>\n",
       "      <th>month</th>\n",
       "    </tr>\n",
       "  </thead>\n",
       "  <tbody>\n",
       "    <tr>\n",
       "      <th>0</th>\n",
       "      <td>2018-01-03</td>\n",
       "      <td>194</td>\n",
       "      <td>POINT(-75 27)</td>\n",
       "      <td>1</td>\n",
       "    </tr>\n",
       "    <tr>\n",
       "      <th>1</th>\n",
       "      <td>2018-01-03</td>\n",
       "      <td>41</td>\n",
       "      <td>POINT(-78.4 29)</td>\n",
       "      <td>1</td>\n",
       "    </tr>\n",
       "    <tr>\n",
       "      <th>2</th>\n",
       "      <td>2018-01-03</td>\n",
       "      <td>33</td>\n",
       "      <td>POINT(-73.9 27)</td>\n",
       "      <td>1</td>\n",
       "    </tr>\n",
       "    <tr>\n",
       "      <th>3</th>\n",
       "      <td>2018-01-03</td>\n",
       "      <td>38</td>\n",
       "      <td>POINT(-73.8 27)</td>\n",
       "      <td>1</td>\n",
       "    </tr>\n",
       "    <tr>\n",
       "      <th>4</th>\n",
       "      <td>2018-01-03</td>\n",
       "      <td>92</td>\n",
       "      <td>POINT(-79 28)</td>\n",
       "      <td>1</td>\n",
       "    </tr>\n",
       "  </tbody>\n",
       "</table>\n",
       "</div>"
      ],
      "text/plain": [
       "        date  number_of_strikes center_point_geom  month\n",
       "0 2018-01-03                194     POINT(-75 27)      1\n",
       "1 2018-01-03                 41   POINT(-78.4 29)      1\n",
       "2 2018-01-03                 33   POINT(-73.9 27)      1\n",
       "3 2018-01-03                 38   POINT(-73.8 27)      1\n",
       "4 2018-01-03                 92     POINT(-79 28)      1"
      ]
     },
     "execution_count": 42,
     "metadata": {},
     "output_type": "execute_result"
    }
   ],
   "source": [
    "# Create a new `month` column\n",
    "df['month'] = df['date'].dt.month\n",
    "df.head()"
   ]
  },
  {
   "cell_type": "markdown",
   "metadata": {},
   "source": [
    "### Calculate the number of strikes per month"
   ]
  },
  {
   "cell_type": "markdown",
   "metadata": {
    "id": "IgL66VK2M40X"
   },
   "source": [
    "Now, we will sort our values by most strikes per month. Use `groupby()`, `sum()` and `sort_values()` from pandas again."
   ]
  },
  {
   "cell_type": "code",
   "execution_count": 43,
   "metadata": {
    "colab": {
     "base_uri": "https://localhost:8080/",
     "height": 457
    },
    "id": "NTI2N5WgyxO9",
    "outputId": "2c63e22e-2a05-4baa-e0e9-5f22b0cec049"
   },
   "outputs": [
    {
     "data": {
      "text/html": [
       "<div>\n",
       "<style scoped>\n",
       "    .dataframe tbody tr th:only-of-type {\n",
       "        vertical-align: middle;\n",
       "    }\n",
       "\n",
       "    .dataframe tbody tr th {\n",
       "        vertical-align: top;\n",
       "    }\n",
       "\n",
       "    .dataframe thead th {\n",
       "        text-align: right;\n",
       "    }\n",
       "</style>\n",
       "<table border=\"1\" class=\"dataframe\">\n",
       "  <thead>\n",
       "    <tr style=\"text-align: right;\">\n",
       "      <th></th>\n",
       "      <th>number_of_strikes</th>\n",
       "    </tr>\n",
       "    <tr>\n",
       "      <th>month</th>\n",
       "      <th></th>\n",
       "    </tr>\n",
       "  </thead>\n",
       "  <tbody>\n",
       "    <tr>\n",
       "      <th>8</th>\n",
       "      <td>15525255</td>\n",
       "    </tr>\n",
       "    <tr>\n",
       "      <th>7</th>\n",
       "      <td>8320400</td>\n",
       "    </tr>\n",
       "    <tr>\n",
       "      <th>6</th>\n",
       "      <td>6445083</td>\n",
       "    </tr>\n",
       "    <tr>\n",
       "      <th>5</th>\n",
       "      <td>4166726</td>\n",
       "    </tr>\n",
       "    <tr>\n",
       "      <th>9</th>\n",
       "      <td>3018336</td>\n",
       "    </tr>\n",
       "  </tbody>\n",
       "</table>\n",
       "</div>"
      ],
      "text/plain": [
       "       number_of_strikes\n",
       "month                   \n",
       "8               15525255\n",
       "7                8320400\n",
       "6                6445083\n",
       "5                4166726\n",
       "9                3018336"
      ]
     },
     "execution_count": 43,
     "metadata": {},
     "output_type": "execute_result"
    }
   ],
   "source": [
    "# Calculate total number of strikes per month\n",
    "df.groupby(['month']).sum(numeric_only=True ).sort_values('number_of_strikes', ascending=False).head(5)"
   ]
  },
  {
   "cell_type": "markdown",
   "metadata": {},
   "source": [
    "### Convert the month number to text "
   ]
  },
  {
   "cell_type": "markdown",
   "metadata": {
    "id": "bXdDXIHrM40Y"
   },
   "source": [
    "To help read the data more easily, let's convert the month number to text using the datetime function `dt.month_name()` and add this as a new column in the dataframe. `str.slice` will omit the text after the first three letters. "
   ]
  },
  {
   "cell_type": "code",
   "execution_count": 44,
   "metadata": {
    "id": "85r56K2EzPNH"
   },
   "outputs": [
    {
     "data": {
      "text/html": [
       "<div>\n",
       "<style scoped>\n",
       "    .dataframe tbody tr th:only-of-type {\n",
       "        vertical-align: middle;\n",
       "    }\n",
       "\n",
       "    .dataframe tbody tr th {\n",
       "        vertical-align: top;\n",
       "    }\n",
       "\n",
       "    .dataframe thead th {\n",
       "        text-align: right;\n",
       "    }\n",
       "</style>\n",
       "<table border=\"1\" class=\"dataframe\">\n",
       "  <thead>\n",
       "    <tr style=\"text-align: right;\">\n",
       "      <th></th>\n",
       "      <th>date</th>\n",
       "      <th>number_of_strikes</th>\n",
       "      <th>center_point_geom</th>\n",
       "      <th>month</th>\n",
       "      <th>month_txt</th>\n",
       "    </tr>\n",
       "  </thead>\n",
       "  <tbody>\n",
       "    <tr>\n",
       "      <th>0</th>\n",
       "      <td>2018-01-03</td>\n",
       "      <td>194</td>\n",
       "      <td>POINT(-75 27)</td>\n",
       "      <td>1</td>\n",
       "      <td>Jan</td>\n",
       "    </tr>\n",
       "    <tr>\n",
       "      <th>1</th>\n",
       "      <td>2018-01-03</td>\n",
       "      <td>41</td>\n",
       "      <td>POINT(-78.4 29)</td>\n",
       "      <td>1</td>\n",
       "      <td>Jan</td>\n",
       "    </tr>\n",
       "    <tr>\n",
       "      <th>2</th>\n",
       "      <td>2018-01-03</td>\n",
       "      <td>33</td>\n",
       "      <td>POINT(-73.9 27)</td>\n",
       "      <td>1</td>\n",
       "      <td>Jan</td>\n",
       "    </tr>\n",
       "    <tr>\n",
       "      <th>3</th>\n",
       "      <td>2018-01-03</td>\n",
       "      <td>38</td>\n",
       "      <td>POINT(-73.8 27)</td>\n",
       "      <td>1</td>\n",
       "      <td>Jan</td>\n",
       "    </tr>\n",
       "    <tr>\n",
       "      <th>4</th>\n",
       "      <td>2018-01-03</td>\n",
       "      <td>92</td>\n",
       "      <td>POINT(-79 28)</td>\n",
       "      <td>1</td>\n",
       "      <td>Jan</td>\n",
       "    </tr>\n",
       "  </tbody>\n",
       "</table>\n",
       "</div>"
      ],
      "text/plain": [
       "        date  number_of_strikes center_point_geom  month month_txt\n",
       "0 2018-01-03                194     POINT(-75 27)      1       Jan\n",
       "1 2018-01-03                 41   POINT(-78.4 29)      1       Jan\n",
       "2 2018-01-03                 33   POINT(-73.9 27)      1       Jan\n",
       "3 2018-01-03                 38   POINT(-73.8 27)      1       Jan\n",
       "4 2018-01-03                 92     POINT(-79 28)      1       Jan"
      ]
     },
     "execution_count": 44,
     "metadata": {},
     "output_type": "execute_result"
    }
   ],
   "source": [
    "# Create a new `month_txt` column.\n",
    "df['month_txt'] = df['date'].dt.month_name().str.slice(stop=3)\n",
    "df.head()"
   ]
  },
  {
   "cell_type": "markdown",
   "metadata": {},
   "source": [
    "### Create a new dataframe"
   ]
  },
  {
   "cell_type": "markdown",
   "metadata": {
    "id": "xo9cPFhiM40Y"
   },
   "source": [
    "The objective is to plot the total number of strikes per month as a bar graph. To help with the plotting, we will create a new dataframe called `df_by_month`. This will allow us to easily access the month, month text, and total number of strikes for each month. "
   ]
  },
  {
   "cell_type": "code",
   "execution_count": 45,
   "metadata": {
    "colab": {
     "base_uri": "https://localhost:8080/",
     "height": 426
    },
    "id": "pnfRpm2eyPzM",
    "outputId": "00d4dcec-6f99-4448-a178-2b832eafb2f6"
   },
   "outputs": [
    {
     "data": {
      "text/html": [
       "<div>\n",
       "<style scoped>\n",
       "    .dataframe tbody tr th:only-of-type {\n",
       "        vertical-align: middle;\n",
       "    }\n",
       "\n",
       "    .dataframe tbody tr th {\n",
       "        vertical-align: top;\n",
       "    }\n",
       "\n",
       "    .dataframe thead th {\n",
       "        text-align: right;\n",
       "    }\n",
       "</style>\n",
       "<table border=\"1\" class=\"dataframe\">\n",
       "  <thead>\n",
       "    <tr style=\"text-align: right;\">\n",
       "      <th></th>\n",
       "      <th>month</th>\n",
       "      <th>month_txt</th>\n",
       "      <th>number_of_strikes</th>\n",
       "    </tr>\n",
       "  </thead>\n",
       "  <tbody>\n",
       "    <tr>\n",
       "      <th>0</th>\n",
       "      <td>1</td>\n",
       "      <td>Jan</td>\n",
       "      <td>860045</td>\n",
       "    </tr>\n",
       "    <tr>\n",
       "      <th>1</th>\n",
       "      <td>2</td>\n",
       "      <td>Feb</td>\n",
       "      <td>2071315</td>\n",
       "    </tr>\n",
       "    <tr>\n",
       "      <th>2</th>\n",
       "      <td>3</td>\n",
       "      <td>Mar</td>\n",
       "      <td>854168</td>\n",
       "    </tr>\n",
       "    <tr>\n",
       "      <th>3</th>\n",
       "      <td>4</td>\n",
       "      <td>Apr</td>\n",
       "      <td>1524339</td>\n",
       "    </tr>\n",
       "    <tr>\n",
       "      <th>4</th>\n",
       "      <td>5</td>\n",
       "      <td>May</td>\n",
       "      <td>4166726</td>\n",
       "    </tr>\n",
       "    <tr>\n",
       "      <th>5</th>\n",
       "      <td>6</td>\n",
       "      <td>Jun</td>\n",
       "      <td>6445083</td>\n",
       "    </tr>\n",
       "    <tr>\n",
       "      <th>6</th>\n",
       "      <td>7</td>\n",
       "      <td>Jul</td>\n",
       "      <td>8320400</td>\n",
       "    </tr>\n",
       "    <tr>\n",
       "      <th>7</th>\n",
       "      <td>8</td>\n",
       "      <td>Aug</td>\n",
       "      <td>15525255</td>\n",
       "    </tr>\n",
       "    <tr>\n",
       "      <th>8</th>\n",
       "      <td>9</td>\n",
       "      <td>Sep</td>\n",
       "      <td>3018336</td>\n",
       "    </tr>\n",
       "    <tr>\n",
       "      <th>9</th>\n",
       "      <td>10</td>\n",
       "      <td>Oct</td>\n",
       "      <td>1093962</td>\n",
       "    </tr>\n",
       "    <tr>\n",
       "      <th>10</th>\n",
       "      <td>11</td>\n",
       "      <td>Nov</td>\n",
       "      <td>409263</td>\n",
       "    </tr>\n",
       "    <tr>\n",
       "      <th>11</th>\n",
       "      <td>12</td>\n",
       "      <td>Dec</td>\n",
       "      <td>312097</td>\n",
       "    </tr>\n",
       "  </tbody>\n",
       "</table>\n",
       "</div>"
      ],
      "text/plain": [
       "    month month_txt  number_of_strikes\n",
       "0       1       Jan             860045\n",
       "1       2       Feb            2071315\n",
       "2       3       Mar             854168\n",
       "3       4       Apr            1524339\n",
       "4       5       May            4166726\n",
       "5       6       Jun            6445083\n",
       "6       7       Jul            8320400\n",
       "7       8       Aug           15525255\n",
       "8       9       Sep            3018336\n",
       "9      10       Oct            1093962\n",
       "10     11       Nov             409263\n",
       "11     12       Dec             312097"
      ]
     },
     "execution_count": 45,
     "metadata": {},
     "output_type": "execute_result"
    }
   ],
   "source": [
    "# Create a new helper dataframe for plotting.\n",
    "df_by_month = df.groupby(['month','month_txt']).sum(numeric_only=True ).sort_values('month', ascending=True).head(12).reset_index()\n",
    "df_by_month"
   ]
  },
  {
   "cell_type": "markdown",
   "metadata": {},
   "source": [
    "### Make a bar chart"
   ]
  },
  {
   "cell_type": "markdown",
   "metadata": {
    "id": "bZv4MenQpYOF",
    "outputId": "45d57593-f29a-4f2f-de78-b0d51abcdba9"
   },
   "source": [
    "Now, let's make a bar chart. Pyplot's `plt.bar()` function takes positional arguments of `x` and `height`, representing the data used for the x- and y- axes, respectively. The x-axis will represent months, and the y-axis will represent strike count."
   ]
  },
  {
   "cell_type": "code",
   "execution_count": 46,
   "metadata": {
    "colab": {
     "base_uri": "https://localhost:8080/",
     "height": 295
    },
    "id": "Y_UW4D-NM40Z",
    "outputId": "45d57593-f29a-4f2f-de78-b0d51abcdba9"
   },
   "outputs": [
    {
     "data": {
      "image/png": "[encoded data removed]",
      "text/plain": [
       "<Figure size 640x480 with 1 Axes>"
      ]
     },
     "metadata": {},
     "output_type": "display_data"
    }
   ],
   "source": [
    "plt.bar(x=df_by_month['month_txt'],height= df_by_month['number_of_strikes'], label=\"Number of strikes\")\n",
    "plt.plot()\n",
    "\n",
    "plt.xlabel(\"Months(2018)\")\n",
    "plt.ylabel(\"Number of lightning strikes\")\n",
    "plt.title(\"Number of lightning strikes in 2018 by months\")\n",
    "plt.legend()\n",
    "plt.show()"
   ]
  },
  {
   "cell_type": "markdown",
   "metadata": {
    "id": "mLo20wP8M40c"
   },
   "source": [
    "## Conclusion\n",
    "\n",
    "If you have successfully completed the material above, congratulations! You now have some of the fundamental elements of data discovery that you can apply to your own datasets. "
   ]
  }
 ],
 "metadata": {
  "colab": {
   "collapsed_sections": [],
   "provenance": [
    {
     "file_id": "11wjoaCc4dEVYQJkwURBnlJMKK1LR5QT6",
     "timestamp": 1662663002669
    }
   ]
  },
  "kernelspec": {
   "display_name": "Python 3 (ipykernel)",
   "language": "python",
   "name": "python3"
  },
  "language_info": {
   "codemirror_mode": {
    "name": "ipython",
    "version": 3
   },
   "file_extension": ".py",
   "mimetype": "text/x-python",
   "name": "python",
   "nbconvert_exporter": "python",
   "pygments_lexer": "ipython3",
   "version": "3.9.6"
  }
 },
 "nbformat": 4,
 "nbformat_minor": 4
}
